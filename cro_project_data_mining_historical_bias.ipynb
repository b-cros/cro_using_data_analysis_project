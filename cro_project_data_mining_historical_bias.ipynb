{
 "cells": [
  {
   "cell_type": "markdown",
   "metadata": {},
   "source": [
    "# CRO Project data mining / exploration of the historical bias "
   ]
  },
  {
   "cell_type": "code",
   "execution_count": 1,
   "metadata": {},
   "outputs": [],
   "source": [
    "import pandas as pd\n",
    "import numpy as np\n",
    "import seaborn as sns\n",
    "import matplotlib.pyplot as plt\n",
    "import scipy.stats as stats\n",
    "import statsmodels.api as sm\n",
    "from scipy.stats import chisquare\n",
    "from datetime import datetime\n",
    "\n",
    "# Hide deprecated warnings\n",
    "import warnings\n",
    "warnings.filterwarnings('ignore')"
   ]
  },
  {
   "cell_type": "code",
   "execution_count": 2,
   "metadata": {},
   "outputs": [],
   "source": [
    "sellers_data = pd.read_csv('/olist_sellers_dataset.csv')\n",
    "items_data = pd.read_csv('/olist_order_items_dataset.csv')"
   ]
  },
  {
   "cell_type": "code",
   "execution_count": 3,
   "metadata": {},
   "outputs": [
    {
     "data": {
      "text/html": [
       "<div>\n",
       "<style scoped>\n",
       "    .dataframe tbody tr th:only-of-type {\n",
       "        vertical-align: middle;\n",
       "    }\n",
       "\n",
       "    .dataframe tbody tr th {\n",
       "        vertical-align: top;\n",
       "    }\n",
       "\n",
       "    .dataframe thead th {\n",
       "        text-align: right;\n",
       "    }\n",
       "</style>\n",
       "<table border=\"1\" class=\"dataframe\">\n",
       "  <thead>\n",
       "    <tr style=\"text-align: right;\">\n",
       "      <th></th>\n",
       "      <th>seller_id</th>\n",
       "      <th>seller_zip_code_prefix</th>\n",
       "      <th>seller_city</th>\n",
       "      <th>seller_state</th>\n",
       "    </tr>\n",
       "  </thead>\n",
       "  <tbody>\n",
       "    <tr>\n",
       "      <th>0</th>\n",
       "      <td>3442f8959a84dea7ee197c632cb2df15</td>\n",
       "      <td>13023</td>\n",
       "      <td>campinas</td>\n",
       "      <td>SP</td>\n",
       "    </tr>\n",
       "    <tr>\n",
       "      <th>1</th>\n",
       "      <td>d1b65fc7debc3361ea86b5f14c68d2e2</td>\n",
       "      <td>13844</td>\n",
       "      <td>mogi guacu</td>\n",
       "      <td>SP</td>\n",
       "    </tr>\n",
       "    <tr>\n",
       "      <th>2</th>\n",
       "      <td>ce3ad9de960102d0677a81f5d0bb7b2d</td>\n",
       "      <td>20031</td>\n",
       "      <td>rio de janeiro</td>\n",
       "      <td>RJ</td>\n",
       "    </tr>\n",
       "    <tr>\n",
       "      <th>3</th>\n",
       "      <td>c0f3eea2e14555b6faeea3dd58c1b1c3</td>\n",
       "      <td>4195</td>\n",
       "      <td>sao paulo</td>\n",
       "      <td>SP</td>\n",
       "    </tr>\n",
       "    <tr>\n",
       "      <th>4</th>\n",
       "      <td>51a04a8a6bdcb23deccc82b0b80742cf</td>\n",
       "      <td>12914</td>\n",
       "      <td>braganca paulista</td>\n",
       "      <td>SP</td>\n",
       "    </tr>\n",
       "  </tbody>\n",
       "</table>\n",
       "</div>"
      ],
      "text/plain": [
       "                          seller_id  seller_zip_code_prefix  \\\n",
       "0  3442f8959a84dea7ee197c632cb2df15                   13023   \n",
       "1  d1b65fc7debc3361ea86b5f14c68d2e2                   13844   \n",
       "2  ce3ad9de960102d0677a81f5d0bb7b2d                   20031   \n",
       "3  c0f3eea2e14555b6faeea3dd58c1b1c3                    4195   \n",
       "4  51a04a8a6bdcb23deccc82b0b80742cf                   12914   \n",
       "\n",
       "         seller_city seller_state  \n",
       "0           campinas           SP  \n",
       "1         mogi guacu           SP  \n",
       "2     rio de janeiro           RJ  \n",
       "3          sao paulo           SP  \n",
       "4  braganca paulista           SP  "
      ]
     },
     "execution_count": 3,
     "metadata": {},
     "output_type": "execute_result"
    }
   ],
   "source": [
    "sellers_data.head()"
   ]
  },
  {
   "cell_type": "code",
   "execution_count": 4,
   "metadata": {},
   "outputs": [
    {
     "data": {
      "text/plain": [
       "(3095, 4)"
      ]
     },
     "execution_count": 4,
     "metadata": {},
     "output_type": "execute_result"
    }
   ],
   "source": [
    "sellers_data.shape"
   ]
  },
  {
   "cell_type": "code",
   "execution_count": 5,
   "metadata": {},
   "outputs": [
    {
     "data": {
      "text/plain": [
       "(112650, 7)"
      ]
     },
     "execution_count": 5,
     "metadata": {},
     "output_type": "execute_result"
    }
   ],
   "source": [
    "items_data.shape"
   ]
  },
  {
   "cell_type": "code",
   "execution_count": 6,
   "metadata": {},
   "outputs": [],
   "source": [
    "sellers_items_df = pd.merge(sellers_data, items_data, on='seller_id', how='left')"
   ]
  },
  {
   "cell_type": "code",
   "execution_count": 7,
   "metadata": {},
   "outputs": [
    {
     "name": "stdout",
     "output_type": "stream",
     "text": [
      "<class 'pandas.core.frame.DataFrame'>\n",
      "Int64Index: 112650 entries, 0 to 112649\n",
      "Data columns (total 10 columns):\n",
      "seller_id                 112650 non-null object\n",
      "seller_zip_code_prefix    112650 non-null int64\n",
      "seller_city               112650 non-null object\n",
      "seller_state              112650 non-null object\n",
      "order_id                  112650 non-null object\n",
      "order_item_id             112650 non-null int64\n",
      "product_id                112650 non-null object\n",
      "shipping_limit_date       112650 non-null object\n",
      "price                     112650 non-null float64\n",
      "freight_value             112650 non-null float64\n",
      "dtypes: float64(2), int64(2), object(6)\n",
      "memory usage: 9.5+ MB\n"
     ]
    }
   ],
   "source": [
    "sellers_items_df.info()"
   ]
  },
  {
   "cell_type": "markdown",
   "metadata": {},
   "source": [
    "### Preperation of datetime data"
   ]
  },
  {
   "cell_type": "code",
   "execution_count": 8,
   "metadata": {},
   "outputs": [],
   "source": [
    "#Transform column shipping_limit_date to pd.to_datetime\n",
    "sellers_items_df['shipping_limit_date'] = pd.to_datetime(sellers_items_df['shipping_limit_date'],format='%Y-%m-%d',utc=False)\n"
   ]
  },
  {
   "cell_type": "code",
   "execution_count": 9,
   "metadata": {},
   "outputs": [],
   "source": [
    "#Create column with year values\n",
    "year_values = sellers_items_df['shipping_limit_date'].dt.year\n",
    "sellers_items_df['year'] = year_values.values"
   ]
  },
  {
   "cell_type": "code",
   "execution_count": 10,
   "metadata": {},
   "outputs": [],
   "source": [
    "#Create column with month values \n",
    "month_values = sellers_items_df['shipping_limit_date'].dt.month\n",
    "sellers_items_df['month'] = month_values.values"
   ]
  },
  {
   "cell_type": "code",
   "execution_count": 11,
   "metadata": {},
   "outputs": [],
   "source": [
    "#Create column short_date with values month/year as strings\n",
    "short_date = sellers_items_df['month'].astype(str) + '/' + sellers_items_df['year'].astype(str)"
   ]
  },
  {
   "cell_type": "code",
   "execution_count": 12,
   "metadata": {},
   "outputs": [],
   "source": [
    "#Add column short_date to the principal dataframe\n",
    "sellers_items_df['short_date'] =short_date.values"
   ]
  },
  {
   "cell_type": "code",
   "execution_count": 13,
   "metadata": {},
   "outputs": [],
   "source": [
    "# #Create a dictionary with season categories\n",
    "\n",
    "mapping={1:'summer', 2: 'summer', 3: 'summer', 4:'autumn', 5:'autumn', 6:'autumn',7:'winter',8:'autumn',\n",
    "         9:'winter', 10:'spring', 11:'spring', 12:'spring'}\n",
    "\n",
    "#Do the mapping\n",
    "sellers_items_df['month'].map(mapping)\n",
    "\n",
    " #Add the mapping to a new column season and concatenate the year\n",
    "sellers_items_df['season'] = sellers_items_df['month'].map(mapping) #+ '/' + sellers_items_df['year'].astype(str)\n",
    "\n",
    "sellers_items_df['season_year'] = sellers_items_df['month'].map(mapping) + '/' + sellers_items_df['year'].astype(str)"
   ]
  },
  {
   "cell_type": "code",
   "execution_count": 14,
   "metadata": {},
   "outputs": [
    {
     "data": {
      "text/html": [
       "<div>\n",
       "<style scoped>\n",
       "    .dataframe tbody tr th:only-of-type {\n",
       "        vertical-align: middle;\n",
       "    }\n",
       "\n",
       "    .dataframe tbody tr th {\n",
       "        vertical-align: top;\n",
       "    }\n",
       "\n",
       "    .dataframe thead th {\n",
       "        text-align: right;\n",
       "    }\n",
       "</style>\n",
       "<table border=\"1\" class=\"dataframe\">\n",
       "  <thead>\n",
       "    <tr style=\"text-align: right;\">\n",
       "      <th></th>\n",
       "      <th>seller_id</th>\n",
       "      <th>seller_zip_code_prefix</th>\n",
       "      <th>seller_city</th>\n",
       "      <th>seller_state</th>\n",
       "      <th>order_id</th>\n",
       "      <th>order_item_id</th>\n",
       "      <th>product_id</th>\n",
       "      <th>shipping_limit_date</th>\n",
       "      <th>price</th>\n",
       "      <th>freight_value</th>\n",
       "      <th>year</th>\n",
       "      <th>month</th>\n",
       "      <th>short_date</th>\n",
       "      <th>season</th>\n",
       "      <th>season_year</th>\n",
       "    </tr>\n",
       "  </thead>\n",
       "  <tbody>\n",
       "    <tr>\n",
       "      <th>0</th>\n",
       "      <td>3442f8959a84dea7ee197c632cb2df15</td>\n",
       "      <td>13023</td>\n",
       "      <td>campinas</td>\n",
       "      <td>SP</td>\n",
       "      <td>4a90af3e85dd563884e2afeab1091394</td>\n",
       "      <td>1</td>\n",
       "      <td>ffb64e34a37740dafb6c88f1abd1fa61</td>\n",
       "      <td>2017-08-25 20:50:19</td>\n",
       "      <td>106.2</td>\n",
       "      <td>9.56</td>\n",
       "      <td>2017</td>\n",
       "      <td>8</td>\n",
       "      <td>8/2017</td>\n",
       "      <td>autumn</td>\n",
       "      <td>autumn/2017</td>\n",
       "    </tr>\n",
       "    <tr>\n",
       "      <th>1</th>\n",
       "      <td>3442f8959a84dea7ee197c632cb2df15</td>\n",
       "      <td>13023</td>\n",
       "      <td>campinas</td>\n",
       "      <td>SP</td>\n",
       "      <td>6d953888a914b67350d5bc4d48f2acab</td>\n",
       "      <td>1</td>\n",
       "      <td>f4621f8ad6f54a2e3c408884068be46d</td>\n",
       "      <td>2017-05-11 16:25:11</td>\n",
       "      <td>101.7</td>\n",
       "      <td>15.92</td>\n",
       "      <td>2017</td>\n",
       "      <td>5</td>\n",
       "      <td>5/2017</td>\n",
       "      <td>autumn</td>\n",
       "      <td>autumn/2017</td>\n",
       "    </tr>\n",
       "  </tbody>\n",
       "</table>\n",
       "</div>"
      ],
      "text/plain": [
       "                          seller_id  seller_zip_code_prefix seller_city  \\\n",
       "0  3442f8959a84dea7ee197c632cb2df15                   13023    campinas   \n",
       "1  3442f8959a84dea7ee197c632cb2df15                   13023    campinas   \n",
       "\n",
       "  seller_state                          order_id  order_item_id  \\\n",
       "0           SP  4a90af3e85dd563884e2afeab1091394              1   \n",
       "1           SP  6d953888a914b67350d5bc4d48f2acab              1   \n",
       "\n",
       "                         product_id shipping_limit_date  price  freight_value  \\\n",
       "0  ffb64e34a37740dafb6c88f1abd1fa61 2017-08-25 20:50:19  106.2           9.56   \n",
       "1  f4621f8ad6f54a2e3c408884068be46d 2017-05-11 16:25:11  101.7          15.92   \n",
       "\n",
       "   year  month short_date  season  season_year  \n",
       "0  2017      8     8/2017  autumn  autumn/2017  \n",
       "1  2017      5     5/2017  autumn  autumn/2017  "
      ]
     },
     "execution_count": 14,
     "metadata": {},
     "output_type": "execute_result"
    }
   ],
   "source": [
    "sellers_items_df.head(2)"
   ]
  },
  {
   "cell_type": "markdown",
   "metadata": {},
   "source": [
    "## Exploring data historial bias"
   ]
  },
  {
   "cell_type": "markdown",
   "metadata": {},
   "source": [
    "#### Check the experience of each seller: months per seller"
   ]
  },
  {
   "cell_type": "code",
   "execution_count": 15,
   "metadata": {},
   "outputs": [],
   "source": [
    "#How many months each seller have been selling\n",
    "month_per_seller = sellers_items_df.groupby('seller_id').short_date.nunique()"
   ]
  },
  {
   "cell_type": "code",
   "execution_count": 16,
   "metadata": {},
   "outputs": [
    {
     "data": {
      "text/plain": [
       "seller_id\n",
       "0015a82c2db000af6aaaf3ae2ecb0532     1\n",
       "001cca7ae9ae17fb1caed9dfb1094831    18\n",
       "001e6ad469a905060d959994f1b41e4f     1\n",
       "002100f778ceb8431b7a1020ff7ab48f     8\n",
       "003554e2dce176b5555353e4f3555ac8     1\n",
       "004c9cd9d87a3c30c522c48c4fc07416    16\n",
       "00720abe85ba0859807595bbf045a33b     6\n",
       "00ab3eff1b5192e5f1a63bcecfee11c8     1\n",
       "00d8b143d12632bad99c0ad66ad52825     1\n",
       "00ee68308b45bc5e2660cd833c3f81cc    11\n",
       "00fc707aaaad2d31347cf883cd2dfe10     5\n",
       "010543a62bd80aa422851e79a3bc7540     2\n",
       "010da0602d7774602cd1b3f5fb7b709e     1\n",
       "011b0eaba87386a2ae96a7d32bb531d1     1\n",
       "01266d4c46afa519678d16a8b683d325     1\n",
       "013900e863eace745d3ec7614cab5b1a     7\n",
       "014c0679dd340a0e338872e7ec85666a    10\n",
       "014d9a685fd57276679edd00e07089e5     5\n",
       "0176f73cc1195f367f7b32db1e5b3aa8    10\n",
       "01bcc9d254a0143f0ce9791b960b2a47     5\n",
       "01c97ebb5cdac52891c0ed1c37ba0012     7\n",
       "01cf7e3d21494c41fb86034f2e714fa1    10\n",
       "01ed254b9ff8407dfb9d99ba1e17d923     3\n",
       "01fd077212124329bac32490e8ef80d9     5\n",
       "01fdefa7697d26ad920e9e0346d4bd1b    16\n",
       "0241d4d5d36f10f80c644447315af0bd    11\n",
       "0249d282d911d23cb8b869ab49c99f53     4\n",
       "024b564ae893ce8e9bfa02c10a401ece     2\n",
       "028872bfa080090a9d0abd4f1af168f8     1\n",
       "02a2272692e13558373c66db98f05e2e     2\n",
       "                                    ..\n",
       "fe26f3ecb51a15e6d8335cd92da42562     3\n",
       "fe49ee029e61e789a1f3a5525f57ba8d     4\n",
       "fe4cd9461203cee790d36792420b310f     3\n",
       "fe701d88b67eaca109dffd464d1be9f9     6\n",
       "fe8055980a4ff7f64ed889c2b5926929     2\n",
       "fe87f472055fbcf1d7e691c00b1560dc     2\n",
       "fe9d9cf8631285d5982c6e2cf27fb114     1\n",
       "feb793c88d836c3a75efa4b5a3465d70     1\n",
       "febab0275244b9a49a623f0bd613ca2f    19\n",
       "fec6275253471ace26d209bbaa64cd0f     5\n",
       "fec6912baad85d41729669edd6b4d3b8     1\n",
       "fec8cd45395b3cb0c2b173d7739706a1     3\n",
       "fedaedd3ca31d56ab33e92035e4b361c     1\n",
       "fedf2c1386e137f296b3bbf3b635e69d     2\n",
       "ff063b022a9a0aab91bad2c9088760b7    17\n",
       "ff1e15b778c700abdd4d239b81ac466d     1\n",
       "ff1fb4c404b2efe68b03350a8dc24122     9\n",
       "ff314fa6033cc68ec451c47aee2d6ba4     2\n",
       "ff4e2d38692ce827b1a4f4b8196e680d     6\n",
       "ff4ea69c2a729e83e63c7579e4ef8170     4\n",
       "ff69aa92bb6b1bf9b8b7a51c2ed9cf8b     7\n",
       "ff82e8873fba613f2261a9acc896fd84     3\n",
       "ffa6adafb71b807dc13159e26431354c     5\n",
       "ffad1e7127fb622cb64a900751590acd     5\n",
       "ffc470761de7d0232558ba5e786e57b7     7\n",
       "ffcfefa19b08742c5d315f2791395ee5     1\n",
       "ffdd9f82b9a447f6f8d4b91554cc7dd3    11\n",
       "ffeee66ac5d5a62fe688b9d26f83f534     7\n",
       "fffd5413c0700ac820c7069d66d98c89    14\n",
       "ffff564a4f9085cd26170f4732393726     5\n",
       "Name: short_date, Length: 3095, dtype: int64"
      ]
     },
     "execution_count": 16,
     "metadata": {},
     "output_type": "execute_result"
    }
   ],
   "source": [
    "month_per_seller"
   ]
  },
  {
   "cell_type": "code",
   "execution_count": 21,
   "metadata": {},
   "outputs": [],
   "source": [
    "#transform series month_per_seller to pd dataframe\n",
    "month_per_seller_df = month_per_seller.to_frame().reset_index()\n",
    "month_per_seller_df = month_per_seller_df.rename(columns={\"short_date\": \"months_per_seller\"})"
   ]
  },
  {
   "cell_type": "code",
   "execution_count": 22,
   "metadata": {},
   "outputs": [
    {
     "data": {
      "text/html": [
       "<div>\n",
       "<style scoped>\n",
       "    .dataframe tbody tr th:only-of-type {\n",
       "        vertical-align: middle;\n",
       "    }\n",
       "\n",
       "    .dataframe tbody tr th {\n",
       "        vertical-align: top;\n",
       "    }\n",
       "\n",
       "    .dataframe thead th {\n",
       "        text-align: right;\n",
       "    }\n",
       "</style>\n",
       "<table border=\"1\" class=\"dataframe\">\n",
       "  <thead>\n",
       "    <tr style=\"text-align: right;\">\n",
       "      <th></th>\n",
       "      <th>seller_id</th>\n",
       "      <th>months_per_seller</th>\n",
       "    </tr>\n",
       "  </thead>\n",
       "  <tbody>\n",
       "    <tr>\n",
       "      <th>0</th>\n",
       "      <td>0015a82c2db000af6aaaf3ae2ecb0532</td>\n",
       "      <td>1</td>\n",
       "    </tr>\n",
       "    <tr>\n",
       "      <th>1</th>\n",
       "      <td>001cca7ae9ae17fb1caed9dfb1094831</td>\n",
       "      <td>18</td>\n",
       "    </tr>\n",
       "    <tr>\n",
       "      <th>2</th>\n",
       "      <td>001e6ad469a905060d959994f1b41e4f</td>\n",
       "      <td>1</td>\n",
       "    </tr>\n",
       "    <tr>\n",
       "      <th>3</th>\n",
       "      <td>002100f778ceb8431b7a1020ff7ab48f</td>\n",
       "      <td>8</td>\n",
       "    </tr>\n",
       "    <tr>\n",
       "      <th>4</th>\n",
       "      <td>003554e2dce176b5555353e4f3555ac8</td>\n",
       "      <td>1</td>\n",
       "    </tr>\n",
       "  </tbody>\n",
       "</table>\n",
       "</div>"
      ],
      "text/plain": [
       "                          seller_id  months_per_seller\n",
       "0  0015a82c2db000af6aaaf3ae2ecb0532                  1\n",
       "1  001cca7ae9ae17fb1caed9dfb1094831                 18\n",
       "2  001e6ad469a905060d959994f1b41e4f                  1\n",
       "3  002100f778ceb8431b7a1020ff7ab48f                  8\n",
       "4  003554e2dce176b5555353e4f3555ac8                  1"
      ]
     },
     "execution_count": 22,
     "metadata": {},
     "output_type": "execute_result"
    }
   ],
   "source": [
    "month_per_seller_df.head()"
   ]
  },
  {
   "cell_type": "markdown",
   "metadata": {},
   "source": [
    "#### Engage seller 1: Orders / season / seller"
   ]
  },
  {
   "cell_type": "code",
   "execution_count": 23,
   "metadata": {},
   "outputs": [
    {
     "data": {
      "text/plain": [
       "112650"
      ]
     },
     "execution_count": 23,
     "metadata": {},
     "output_type": "execute_result"
    }
   ],
   "source": [
    "#check the lenght of total orders ids to check duplicates\n",
    "len(sellers_items_df['order_id'])"
   ]
  },
  {
   "cell_type": "code",
   "execution_count": 24,
   "metadata": {},
   "outputs": [
    {
     "data": {
      "text/plain": [
       "100010"
      ]
     },
     "execution_count": 24,
     "metadata": {},
     "output_type": "execute_result"
    }
   ],
   "source": [
    "#Check there are duplicates, so we will apply drop_duplicates on the groupby's.\n",
    "len(sellers_items_df[['order_id', 'seller_id','season_year']].drop_duplicates())"
   ]
  },
  {
   "cell_type": "code",
   "execution_count": 25,
   "metadata": {},
   "outputs": [],
   "source": [
    "#order per season per seller count\n",
    "orders_per_season_seller = sellers_items_df[['order_id','seller_id',\n",
    "                'season']].drop_duplicates().groupby(['seller_id',\n",
    "                                        'season']).count().reset_index().sort_values(by='seller_id')\n",
    "orders_per_season_seller = orders_per_season_seller.rename(columns={\"order_id\": \"orders_season\"})\n",
    "\n",
    "#orders per season mean\n",
    "orders_per_season_mean = orders_per_season_seller.groupby('seller_id').mean()\n",
    "#rename column mean\n",
    "orders_per_season_mean = orders_per_season_mean.rename(columns={\"orders_season\": \"orders_season_mean\"})\n",
    "\n",
    "#orders per season max\n",
    "orders_per_season_max = orders_per_season_seller.groupby('seller_id').max()\n",
    "#rename column max\n",
    "orders_per_season_max = orders_per_season_max.rename(columns={\"orders_season\": \"orders_season_max\"})\n",
    "\n",
    "#orders per season min\n",
    "orders_per_season_min = orders_per_season_seller.groupby('seller_id').min()\n",
    "#rename column min\n",
    "orders_per_season_min = orders_per_season_min.rename(columns={\"orders_season\": \"orders_season_min\"})"
   ]
  },
  {
   "cell_type": "code",
   "execution_count": 26,
   "metadata": {},
   "outputs": [
    {
     "data": {
      "text/html": [
       "<div>\n",
       "<style scoped>\n",
       "    .dataframe tbody tr th:only-of-type {\n",
       "        vertical-align: middle;\n",
       "    }\n",
       "\n",
       "    .dataframe tbody tr th {\n",
       "        vertical-align: top;\n",
       "    }\n",
       "\n",
       "    .dataframe thead th {\n",
       "        text-align: right;\n",
       "    }\n",
       "</style>\n",
       "<table border=\"1\" class=\"dataframe\">\n",
       "  <thead>\n",
       "    <tr style=\"text-align: right;\">\n",
       "      <th></th>\n",
       "      <th>seller_id</th>\n",
       "      <th>season</th>\n",
       "      <th>orders_season</th>\n",
       "    </tr>\n",
       "  </thead>\n",
       "  <tbody>\n",
       "    <tr>\n",
       "      <th>0</th>\n",
       "      <td>0015a82c2db000af6aaaf3ae2ecb0532</td>\n",
       "      <td>spring</td>\n",
       "      <td>3</td>\n",
       "    </tr>\n",
       "    <tr>\n",
       "      <th>1</th>\n",
       "      <td>001cca7ae9ae17fb1caed9dfb1094831</td>\n",
       "      <td>autumn</td>\n",
       "      <td>80</td>\n",
       "    </tr>\n",
       "    <tr>\n",
       "      <th>2</th>\n",
       "      <td>001cca7ae9ae17fb1caed9dfb1094831</td>\n",
       "      <td>spring</td>\n",
       "      <td>54</td>\n",
       "    </tr>\n",
       "    <tr>\n",
       "      <th>3</th>\n",
       "      <td>001cca7ae9ae17fb1caed9dfb1094831</td>\n",
       "      <td>summer</td>\n",
       "      <td>31</td>\n",
       "    </tr>\n",
       "    <tr>\n",
       "      <th>4</th>\n",
       "      <td>001cca7ae9ae17fb1caed9dfb1094831</td>\n",
       "      <td>winter</td>\n",
       "      <td>35</td>\n",
       "    </tr>\n",
       "  </tbody>\n",
       "</table>\n",
       "</div>"
      ],
      "text/plain": [
       "                          seller_id  season  orders_season\n",
       "0  0015a82c2db000af6aaaf3ae2ecb0532  spring              3\n",
       "1  001cca7ae9ae17fb1caed9dfb1094831  autumn             80\n",
       "2  001cca7ae9ae17fb1caed9dfb1094831  spring             54\n",
       "3  001cca7ae9ae17fb1caed9dfb1094831  summer             31\n",
       "4  001cca7ae9ae17fb1caed9dfb1094831  winter             35"
      ]
     },
     "execution_count": 26,
     "metadata": {},
     "output_type": "execute_result"
    }
   ],
   "source": [
    "orders_per_season_seller.head()"
   ]
  },
  {
   "cell_type": "code",
   "execution_count": 27,
   "metadata": {},
   "outputs": [],
   "source": [
    "orders_season_mean = pd.pivot_table(orders_per_season_seller, values='orders_season', index=['seller_id'],\n",
    "                    columns=['season'], aggfunc=np.mean).fillna(0)"
   ]
  },
  {
   "cell_type": "code",
   "execution_count": 28,
   "metadata": {},
   "outputs": [],
   "source": [
    "#merge df with: sellerid + mean + max + min\n",
    "m1 = pd.merge(month_per_seller_df, orders_season_mean, on='seller_id', how='left')"
   ]
  },
  {
   "cell_type": "code",
   "execution_count": 35,
   "metadata": {},
   "outputs": [],
   "source": [
    "#Drop unnecessary columns\n",
    "seasons_clean = seasons.drop(['season_year_x','season_year_y'], axis = 1) "
   ]
  },
  {
   "cell_type": "code",
   "execution_count": 30,
   "metadata": {},
   "outputs": [],
   "source": [
    "#merge 2\n",
    "a_2 = pd.merge(month_per_seller_df, orders_per_season_seller, on='seller_id', how='left')"
   ]
  },
  {
   "cell_type": "code",
   "execution_count": 31,
   "metadata": {},
   "outputs": [],
   "source": [
    "#orders_per_season_max\n",
    "orders_per_season_max = sellers_items_df[['order_id','seller_id','season_year']].drop_duplicates().groupby(['seller_id',\n",
    "                                                         'season_year']).max().reset_index().sort_values(by='seller_id')\n",
    "orders_per_season_max = orders_per_season_max.rename(columns={\"order_id\": \"orders_season_max\"})\n",
    "b_2 = pd.merge(a_2, orders_per_season_max, on='seller_id', how='left')"
   ]
  },
  {
   "cell_type": "markdown",
   "metadata": {},
   "source": [
    "#### Engage seller 2: orders/year/seller"
   ]
  },
  {
   "cell_type": "code",
   "execution_count": 32,
   "metadata": {},
   "outputs": [],
   "source": [
    "orders_per_year_seller = sellers_items_df[['order_id','seller_id','year',]].drop_duplicates().groupby(['seller_id',\n",
    "                                                    'year']).count().reset_index().sort_values(by='seller_id')\n",
    "orders_per_year_seller = orders_per_year_seller.rename(columns={\"order_id\": \"orders_x_year_seller\"})\n",
    "\n",
    "c_2 = pd.merge(a_2, orders_per_year_seller, on='seller_id', how='left')\n"
   ]
  },
  {
   "cell_type": "code",
   "execution_count": 33,
   "metadata": {},
   "outputs": [],
   "source": [
    "orders_year = pd.pivot_table(orders_per_year_seller, values='orders_x_year_seller', index=['seller_id'],\n",
    "                    columns=['year'], aggfunc=np.sum).fillna(0)"
   ]
  },
  {
   "cell_type": "code",
   "execution_count": 34,
   "metadata": {},
   "outputs": [
    {
     "name": "stdout",
     "output_type": "stream",
     "text": [
      "<class 'pandas.core.frame.DataFrame'>\n",
      "Index: 3095 entries, 0015a82c2db000af6aaaf3ae2ecb0532 to ffff564a4f9085cd26170f4732393726\n",
      "Data columns (total 4 columns):\n",
      "2016    3095 non-null float64\n",
      "2017    3095 non-null float64\n",
      "2018    3095 non-null float64\n",
      "2020    3095 non-null float64\n",
      "dtypes: float64(4)\n",
      "memory usage: 120.9+ KB\n"
     ]
    }
   ],
   "source": [
    "orders_year.info()"
   ]
  },
  {
   "cell_type": "code",
   "execution_count": 35,
   "metadata": {},
   "outputs": [],
   "source": [
    "orders_year = orders_year.drop([2020], axis = 1) "
   ]
  },
  {
   "cell_type": "code",
   "execution_count": 36,
   "metadata": {},
   "outputs": [],
   "source": [
    "m2 = pd.merge(m1, orders_year, on='seller_id', how='left')"
   ]
  },
  {
   "cell_type": "code",
   "execution_count": 37,
   "metadata": {},
   "outputs": [],
   "source": [
    "orders_per_year_seller_max = sellers_items_df[['order_id','seller_id','year',]].drop_duplicates().groupby(['seller_id','year']).max().reset_index().sort_values(by='seller_id')\n",
    "orders_per_year_seller_max = orders_per_year_seller_max.rename(columns={\"order_id\": \"orders_x_year_seller_max\"})\n",
    "\n",
    "d_2 = pd.merge(c_2, orders_per_year_seller_max, on='seller_id', how='left')"
   ]
  },
  {
   "cell_type": "markdown",
   "metadata": {},
   "source": [
    "#### Engage seller 3: orders/month/seller"
   ]
  },
  {
   "cell_type": "code",
   "execution_count": 38,
   "metadata": {},
   "outputs": [],
   "source": [
    "orders_month_seller = sellers_items_df[['order_id','seller_id','short_date']].drop_duplicates().groupby(['seller_id',\n",
    "                                                                    'short_date']).count().reset_index().sort_values(by='seller_id')\n",
    "\n",
    "orders_month_seller = orders_month_seller.rename(columns={\"order_id\": \"orders_month_seller\"})\n",
    "\n",
    "#orders per month mean\n",
    "orders_month_seller_mean = orders_month_seller.groupby('seller_id').mean()\n",
    "#rename column mean\n",
    "orders_month_seller_mean = orders_month_seller_mean.rename(columns={\"orders_month_seller\": \"orders_month_mean\"})\n",
    "\n",
    "#orders per month max\n",
    "orders_month_seller_max = orders_month_seller.groupby('seller_id').max()\n",
    "#rename column max\n",
    "orders_month_seller_max = orders_month_seller_max.rename(columns={\"orders_month_seller\": \"orders_month_max\"})\n",
    "\n",
    "#orders per month min\n",
    "orders_month_seller_min = orders_month_seller.groupby('seller_id').min()\n",
    "#rename column min\n",
    "orders_month_seller_min = orders_month_seller_min.rename(columns={\"orders_month_seller\": \"orders_month_min\"})"
   ]
  },
  {
   "cell_type": "code",
   "execution_count": 39,
   "metadata": {},
   "outputs": [],
   "source": [
    "#merge 1\n",
    "month_1 = pd.merge(orders_month_seller_mean, orders_month_seller_max, on='seller_id', how='left')\n",
    "\n",
    "#merge 2\n",
    "month_df = pd.merge(month_1, orders_month_seller_min, on='seller_id', how='left')"
   ]
  },
  {
   "cell_type": "code",
   "execution_count": 40,
   "metadata": {},
   "outputs": [
    {
     "data": {
      "text/html": [
       "<div>\n",
       "<style scoped>\n",
       "    .dataframe tbody tr th:only-of-type {\n",
       "        vertical-align: middle;\n",
       "    }\n",
       "\n",
       "    .dataframe tbody tr th {\n",
       "        vertical-align: top;\n",
       "    }\n",
       "\n",
       "    .dataframe thead th {\n",
       "        text-align: right;\n",
       "    }\n",
       "</style>\n",
       "<table border=\"1\" class=\"dataframe\">\n",
       "  <thead>\n",
       "    <tr style=\"text-align: right;\">\n",
       "      <th></th>\n",
       "      <th>orders_month_mean</th>\n",
       "      <th>short_date_x</th>\n",
       "      <th>orders_month_max</th>\n",
       "      <th>short_date_y</th>\n",
       "      <th>orders_month_min</th>\n",
       "    </tr>\n",
       "    <tr>\n",
       "      <th>seller_id</th>\n",
       "      <th></th>\n",
       "      <th></th>\n",
       "      <th></th>\n",
       "      <th></th>\n",
       "      <th></th>\n",
       "    </tr>\n",
       "  </thead>\n",
       "  <tbody>\n",
       "    <tr>\n",
       "      <th>0015a82c2db000af6aaaf3ae2ecb0532</th>\n",
       "      <td>3.000000</td>\n",
       "      <td>10/2017</td>\n",
       "      <td>3</td>\n",
       "      <td>10/2017</td>\n",
       "      <td>3</td>\n",
       "    </tr>\n",
       "    <tr>\n",
       "      <th>001cca7ae9ae17fb1caed9dfb1094831</th>\n",
       "      <td>11.111111</td>\n",
       "      <td>9/2017</td>\n",
       "      <td>24</td>\n",
       "      <td>1/2018</td>\n",
       "      <td>1</td>\n",
       "    </tr>\n",
       "    <tr>\n",
       "      <th>001e6ad469a905060d959994f1b41e4f</th>\n",
       "      <td>1.000000</td>\n",
       "      <td>8/2018</td>\n",
       "      <td>1</td>\n",
       "      <td>8/2018</td>\n",
       "      <td>1</td>\n",
       "    </tr>\n",
       "    <tr>\n",
       "      <th>002100f778ceb8431b7a1020ff7ab48f</th>\n",
       "      <td>6.375000</td>\n",
       "      <td>9/2017</td>\n",
       "      <td>15</td>\n",
       "      <td>1/2018</td>\n",
       "      <td>2</td>\n",
       "    </tr>\n",
       "    <tr>\n",
       "      <th>003554e2dce176b5555353e4f3555ac8</th>\n",
       "      <td>1.000000</td>\n",
       "      <td>12/2017</td>\n",
       "      <td>1</td>\n",
       "      <td>12/2017</td>\n",
       "      <td>1</td>\n",
       "    </tr>\n",
       "  </tbody>\n",
       "</table>\n",
       "</div>"
      ],
      "text/plain": [
       "                                  orders_month_mean short_date_x  \\\n",
       "seller_id                                                          \n",
       "0015a82c2db000af6aaaf3ae2ecb0532           3.000000      10/2017   \n",
       "001cca7ae9ae17fb1caed9dfb1094831          11.111111       9/2017   \n",
       "001e6ad469a905060d959994f1b41e4f           1.000000       8/2018   \n",
       "002100f778ceb8431b7a1020ff7ab48f           6.375000       9/2017   \n",
       "003554e2dce176b5555353e4f3555ac8           1.000000      12/2017   \n",
       "\n",
       "                                  orders_month_max short_date_y  \\\n",
       "seller_id                                                         \n",
       "0015a82c2db000af6aaaf3ae2ecb0532                 3      10/2017   \n",
       "001cca7ae9ae17fb1caed9dfb1094831                24       1/2018   \n",
       "001e6ad469a905060d959994f1b41e4f                 1       8/2018   \n",
       "002100f778ceb8431b7a1020ff7ab48f                15       1/2018   \n",
       "003554e2dce176b5555353e4f3555ac8                 1      12/2017   \n",
       "\n",
       "                                  orders_month_min  \n",
       "seller_id                                           \n",
       "0015a82c2db000af6aaaf3ae2ecb0532                 3  \n",
       "001cca7ae9ae17fb1caed9dfb1094831                 1  \n",
       "001e6ad469a905060d959994f1b41e4f                 1  \n",
       "002100f778ceb8431b7a1020ff7ab48f                 2  \n",
       "003554e2dce176b5555353e4f3555ac8                 1  "
      ]
     },
     "execution_count": 40,
     "metadata": {},
     "output_type": "execute_result"
    }
   ],
   "source": [
    "month_df.head()"
   ]
  },
  {
   "cell_type": "code",
   "execution_count": 41,
   "metadata": {},
   "outputs": [],
   "source": [
    "#Drop unnecessary columns\n",
    "month_clean = month_df.drop(['short_date_y'], axis = 1) "
   ]
  },
  {
   "cell_type": "code",
   "execution_count": 42,
   "metadata": {},
   "outputs": [
    {
     "data": {
      "text/html": [
       "<div>\n",
       "<style scoped>\n",
       "    .dataframe tbody tr th:only-of-type {\n",
       "        vertical-align: middle;\n",
       "    }\n",
       "\n",
       "    .dataframe tbody tr th {\n",
       "        vertical-align: top;\n",
       "    }\n",
       "\n",
       "    .dataframe thead th {\n",
       "        text-align: right;\n",
       "    }\n",
       "</style>\n",
       "<table border=\"1\" class=\"dataframe\">\n",
       "  <thead>\n",
       "    <tr style=\"text-align: right;\">\n",
       "      <th></th>\n",
       "      <th>orders_month_mean</th>\n",
       "      <th>short_date_x</th>\n",
       "      <th>orders_month_max</th>\n",
       "      <th>orders_month_min</th>\n",
       "    </tr>\n",
       "    <tr>\n",
       "      <th>seller_id</th>\n",
       "      <th></th>\n",
       "      <th></th>\n",
       "      <th></th>\n",
       "      <th></th>\n",
       "    </tr>\n",
       "  </thead>\n",
       "  <tbody>\n",
       "    <tr>\n",
       "      <th>0015a82c2db000af6aaaf3ae2ecb0532</th>\n",
       "      <td>3.000000</td>\n",
       "      <td>10/2017</td>\n",
       "      <td>3</td>\n",
       "      <td>3</td>\n",
       "    </tr>\n",
       "    <tr>\n",
       "      <th>001cca7ae9ae17fb1caed9dfb1094831</th>\n",
       "      <td>11.111111</td>\n",
       "      <td>9/2017</td>\n",
       "      <td>24</td>\n",
       "      <td>1</td>\n",
       "    </tr>\n",
       "    <tr>\n",
       "      <th>001e6ad469a905060d959994f1b41e4f</th>\n",
       "      <td>1.000000</td>\n",
       "      <td>8/2018</td>\n",
       "      <td>1</td>\n",
       "      <td>1</td>\n",
       "    </tr>\n",
       "    <tr>\n",
       "      <th>002100f778ceb8431b7a1020ff7ab48f</th>\n",
       "      <td>6.375000</td>\n",
       "      <td>9/2017</td>\n",
       "      <td>15</td>\n",
       "      <td>2</td>\n",
       "    </tr>\n",
       "    <tr>\n",
       "      <th>003554e2dce176b5555353e4f3555ac8</th>\n",
       "      <td>1.000000</td>\n",
       "      <td>12/2017</td>\n",
       "      <td>1</td>\n",
       "      <td>1</td>\n",
       "    </tr>\n",
       "  </tbody>\n",
       "</table>\n",
       "</div>"
      ],
      "text/plain": [
       "                                  orders_month_mean short_date_x  \\\n",
       "seller_id                                                          \n",
       "0015a82c2db000af6aaaf3ae2ecb0532           3.000000      10/2017   \n",
       "001cca7ae9ae17fb1caed9dfb1094831          11.111111       9/2017   \n",
       "001e6ad469a905060d959994f1b41e4f           1.000000       8/2018   \n",
       "002100f778ceb8431b7a1020ff7ab48f           6.375000       9/2017   \n",
       "003554e2dce176b5555353e4f3555ac8           1.000000      12/2017   \n",
       "\n",
       "                                  orders_month_max  orders_month_min  \n",
       "seller_id                                                             \n",
       "0015a82c2db000af6aaaf3ae2ecb0532                 3                 3  \n",
       "001cca7ae9ae17fb1caed9dfb1094831                24                 1  \n",
       "001e6ad469a905060d959994f1b41e4f                 1                 1  \n",
       "002100f778ceb8431b7a1020ff7ab48f                15                 2  \n",
       "003554e2dce176b5555353e4f3555ac8                 1                 1  "
      ]
     },
     "execution_count": 42,
     "metadata": {},
     "output_type": "execute_result"
    }
   ],
   "source": [
    "month_clean.head()"
   ]
  }
 ],
 "metadata": {
  "kernelspec": {
   "display_name": "Python 3",
   "language": "python",
   "name": "python3"
  },
  "language_info": {
   "codemirror_mode": {
    "name": "ipython",
    "version": 3
   },
   "file_extension": ".py",
   "mimetype": "text/x-python",
   "name": "python",
   "nbconvert_exporter": "python",
   "pygments_lexer": "ipython3",
   "version": "3.7.1"
  }
 },
 "nbformat": 4,
 "nbformat_minor": 2
}
